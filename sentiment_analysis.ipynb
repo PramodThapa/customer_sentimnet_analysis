{
  "nbformat": 4,
  "nbformat_minor": 0,
  "metadata": {
    "colab": {
      "name": "sentiment_analysis.ipynb",
      "provenance": [],
      "collapsed_sections": []
    },
    "kernelspec": {
      "display_name": "Python 3",
      "name": "python3"
    },
    "language_info": {
      "name": "python"
    },
    "accelerator": "GPU"
  },
  "cells": [
    {
      "cell_type": "code",
      "metadata": {
        "id": "Ef8v3c00-73S"
      },
      "source": [
        "import numpy as np\n",
        "import matplotlib.pyplot as plt\n",
        "import seaborn as sns\n",
        "import pandas as pd\n",
        "import tensorflow as tf\n"
      ],
      "execution_count": null,
      "outputs": []
    },
    {
      "cell_type": "code",
      "metadata": {
        "colab": {
          "base_uri": "https://localhost:8080/"
        },
        "id": "I9M1F7yfoo2G",
        "outputId": "fc648bde-945d-45d0-ecc2-940c10369f8d"
      },
      "source": [
        "from google.colab import drive\n",
        "drive.mount('/content/drive')"
      ],
      "execution_count": null,
      "outputs": [
        {
          "output_type": "stream",
          "name": "stdout",
          "text": [
            "Drive already mounted at /content/drive; to attempt to forcibly remount, call drive.mount(\"/content/drive\", force_remount=True).\n"
          ]
        }
      ]
    },
    {
      "cell_type": "code",
      "metadata": {
        "id": "UnkKjyld_dTz"
      },
      "source": [
        "dataset_1_path='/content/drive/MyDrive/Colab Notebooks/sentiment_analysis/dataset_1.csv'\n",
        "dataset_2_path='/content/drive/MyDrive/Colab Notebooks/sentiment_analysis/dataset_2.csv'"
      ],
      "execution_count": null,
      "outputs": []
    },
    {
      "cell_type": "code",
      "metadata": {
        "id": "Z3RizaSrp-Wq"
      },
      "source": [
        "df_1=pd.read_csv(dataset_1_path)\n"
      ],
      "execution_count": null,
      "outputs": []
    },
    {
      "cell_type": "code",
      "metadata": {
        "id": "t56EJ9-YrQQv"
      },
      "source": [
        "df_version1=df_1.filter(['asins','reviews.text','reviews.rating', 'reviews.numHelpful'])"
      ],
      "execution_count": null,
      "outputs": []
    },
    {
      "cell_type": "code",
      "metadata": {
        "id": "DJ5UD8DzCIqg"
      },
      "source": [
        "df_version1.count()"
      ],
      "execution_count": null,
      "outputs": []
    },
    {
      "cell_type": "code",
      "metadata": {
        "id": "XXTOVnPyqh3i"
      },
      "source": [
        "df_2=pd.read_csv(dataset_2_path)"
      ],
      "execution_count": null,
      "outputs": []
    },
    {
      "cell_type": "code",
      "metadata": {
        "id": "KdVHUI31CVBA"
      },
      "source": [
        "df_version2=df_2.filter(['asins','reviews.text','reviews.rating','review.numHelpful'])"
      ],
      "execution_count": null,
      "outputs": []
    },
    {
      "cell_type": "code",
      "metadata": {
        "colab": {
          "base_uri": "https://localhost:8080/"
        },
        "id": "YTsgpXWlDna_",
        "outputId": "3e7977bf-ce0f-466d-9249-acb2a05719e7"
      },
      "source": [
        "df_version2.count()"
      ],
      "execution_count": null,
      "outputs": [
        {
          "output_type": "execute_result",
          "data": {
            "text/plain": [
              "asins             28332\n",
              "reviews.text      28332\n",
              "reviews.rating    28332\n",
              "dtype: int64"
            ]
          },
          "metadata": {},
          "execution_count": 19
        }
      ]
    },
    {
      "cell_type": "code",
      "metadata": {
        "colab": {
          "base_uri": "https://localhost:8080/"
        },
        "id": "DRAsDux-EFqQ",
        "outputId": "7c3a0242-51af-4da5-d927-2101f8914d72"
      },
      "source": [
        "df_version1['asins'].value_counts()"
      ],
      "execution_count": null,
      "outputs": [
        {
          "output_type": "execute_result",
          "data": {
            "text/plain": [
              "B01AHB9CN2    797\n",
              "B010CEHQTG    650\n",
              "B06XB29FPF    590\n",
              "B018Y22C2Y    561\n",
              "B018Y225IA    467\n",
              "B018Y22BI4    371\n",
              "B01BH83OOM    225\n",
              "B018Y23MNM    217\n",
              "B01J24C0TI    195\n",
              "B017JG41PC    159\n",
              "B0189XYY0Q    106\n",
              "B018Y224PY    101\n",
              "B00ZV9PXP2     96\n",
              "B00IOY8XWQ     82\n",
              "B01AHBDCKQ     70\n",
              "B01ACEKAJY     58\n",
              "B01AHB9C1E     53\n",
              "B01AHBBG04     51\n",
              "B01AHB9CYG     40\n",
              "B00REQKWGA     39\n",
              "B00VINDBJK     24\n",
              "B00QFQRELG     22\n",
              "B00IOYAM4I     22\n",
              "B01N32NCPM      4\n",
              "Name: asins, dtype: int64"
            ]
          },
          "metadata": {},
          "execution_count": 20
        }
      ]
    },
    {
      "cell_type": "code",
      "metadata": {
        "colab": {
          "base_uri": "https://localhost:8080/"
        },
        "id": "2VDmzEy_PzTt",
        "outputId": "733c5828-2815-43b8-b304-df4954b5cf89"
      },
      "source": [
        "df_version2['asins'].value_counts()"
      ],
      "execution_count": null,
      "outputs": [
        {
          "output_type": "execute_result",
          "data": {
            "text/plain": [
              "B00QWO9P0O,B00LH3DMUO               8343\n",
              "B00QWO9P0O,B01IB83NZG,B00MNV8E0C    3728\n",
              "B018T075DC                          2443\n",
              "B018SZT3BK,B01AHB9CN2               2370\n",
              "B018Y226XO                          1676\n",
              "                                    ... \n",
              "B00VKTZFB4                             1\n",
              "B00OP6SMCI                             1\n",
              "B01J24C0TI                             1\n",
              "B010RLCH2U                             1\n",
              "B00QAVO43C                             1\n",
              "Name: asins, Length: 65, dtype: int64"
            ]
          },
          "metadata": {},
          "execution_count": 21
        }
      ]
    },
    {
      "cell_type": "code",
      "metadata": {
        "id": "_i1ahLpTQNMA"
      },
      "source": [
        "df=df_version2.append(df_version1)"
      ],
      "execution_count": null,
      "outputs": []
    },
    {
      "cell_type": "code",
      "metadata": {
        "colab": {
          "base_uri": "https://localhost:8080/",
          "height": 295
        },
        "id": "b04V-CSsRtkl",
        "outputId": "733947fb-9f70-42af-e6aa-08736336191c"
      },
      "source": [
        "df.describe()"
      ],
      "execution_count": null,
      "outputs": [
        {
          "output_type": "execute_result",
          "data": {
            "text/html": [
              "<div>\n",
              "<style scoped>\n",
              "    .dataframe tbody tr th:only-of-type {\n",
              "        vertical-align: middle;\n",
              "    }\n",
              "\n",
              "    .dataframe tbody tr th {\n",
              "        vertical-align: top;\n",
              "    }\n",
              "\n",
              "    .dataframe thead th {\n",
              "        text-align: right;\n",
              "    }\n",
              "</style>\n",
              "<table border=\"1\" class=\"dataframe\">\n",
              "  <thead>\n",
              "    <tr style=\"text-align: right;\">\n",
              "      <th></th>\n",
              "      <th>reviews.rating</th>\n",
              "      <th>reviews.numHelpful</th>\n",
              "    </tr>\n",
              "  </thead>\n",
              "  <tbody>\n",
              "    <tr>\n",
              "      <th>count</th>\n",
              "      <td>33332.000000</td>\n",
              "      <td>5000.000000</td>\n",
              "    </tr>\n",
              "    <tr>\n",
              "      <th>mean</th>\n",
              "      <td>4.526461</td>\n",
              "      <td>0.312400</td>\n",
              "    </tr>\n",
              "    <tr>\n",
              "      <th>std</th>\n",
              "      <td>0.907859</td>\n",
              "      <td>3.111582</td>\n",
              "    </tr>\n",
              "    <tr>\n",
              "      <th>min</th>\n",
              "      <td>1.000000</td>\n",
              "      <td>0.000000</td>\n",
              "    </tr>\n",
              "    <tr>\n",
              "      <th>25%</th>\n",
              "      <td>4.000000</td>\n",
              "      <td>0.000000</td>\n",
              "    </tr>\n",
              "    <tr>\n",
              "      <th>50%</th>\n",
              "      <td>5.000000</td>\n",
              "      <td>0.000000</td>\n",
              "    </tr>\n",
              "    <tr>\n",
              "      <th>75%</th>\n",
              "      <td>5.000000</td>\n",
              "      <td>0.000000</td>\n",
              "    </tr>\n",
              "    <tr>\n",
              "      <th>max</th>\n",
              "      <td>5.000000</td>\n",
              "      <td>105.000000</td>\n",
              "    </tr>\n",
              "  </tbody>\n",
              "</table>\n",
              "</div>"
            ],
            "text/plain": [
              "       reviews.rating  reviews.numHelpful\n",
              "count    33332.000000         5000.000000\n",
              "mean         4.526461            0.312400\n",
              "std          0.907859            3.111582\n",
              "min          1.000000            0.000000\n",
              "25%          4.000000            0.000000\n",
              "50%          5.000000            0.000000\n",
              "75%          5.000000            0.000000\n",
              "max          5.000000          105.000000"
            ]
          },
          "metadata": {},
          "execution_count": 23
        }
      ]
    },
    {
      "cell_type": "code",
      "metadata": {
        "colab": {
          "base_uri": "https://localhost:8080/"
        },
        "id": "Lr2jNqp1SCDc",
        "outputId": "07183c2c-40ed-4f41-f7c6-4bfc49904f4e"
      },
      "source": [
        "df.nunique(axis=1)"
      ],
      "execution_count": null,
      "outputs": [
        {
          "output_type": "execute_result",
          "data": {
            "text/plain": [
              "0       3\n",
              "1       3\n",
              "2       3\n",
              "3       3\n",
              "4       3\n",
              "       ..\n",
              "4995    4\n",
              "4996    4\n",
              "4997    4\n",
              "4998    4\n",
              "4999    4\n",
              "Length: 33332, dtype: int64"
            ]
          },
          "metadata": {},
          "execution_count": 24
        }
      ]
    },
    {
      "cell_type": "code",
      "metadata": {
        "id": "MdoYByxISQrE"
      },
      "source": [
        "## final datraset is 'df'"
      ],
      "execution_count": null,
      "outputs": []
    },
    {
      "cell_type": "code",
      "metadata": {
        "id": "va9s7RUASUM0"
      },
      "source": [
        "## data preprocessing in sentiment analysis"
      ],
      "execution_count": null,
      "outputs": []
    },
    {
      "cell_type": "code",
      "metadata": {
        "id": "94V5j-OkgA7g"
      },
      "source": [
        "##lets finds the null or NaN value in each column\n",
        "import nltk\n",
        "import spacy\n",
        "import string\n",
        "import re"
      ],
      "execution_count": null,
      "outputs": []
    },
    {
      "cell_type": "code",
      "metadata": {
        "id": "WHAr4rHmj2hj"
      },
      "source": [
        "## convert to string\n",
        "df['reviews.text']=df['reviews.text'].astype(str)"
      ],
      "execution_count": null,
      "outputs": []
    },
    {
      "cell_type": "code",
      "metadata": {
        "id": "f_QGGZaNlgi6"
      },
      "source": [
        "#convert to lower case\n",
        "df['review_lower']=df['reviews.text'].str.lower()"
      ],
      "execution_count": null,
      "outputs": []
    },
    {
      "cell_type": "code",
      "metadata": {
        "colab": {
          "base_uri": "https://localhost:8080/",
          "height": 36
        },
        "id": "KiTApJ_xmHOB",
        "outputId": "5c8cff3f-ec4c-48d9-da4c-36c395359379"
      },
      "source": [
        "\n",
        "## remove  punctuation and stopwords\n",
        "string.punctuation"
      ],
      "execution_count": null,
      "outputs": [
        {
          "output_type": "execute_result",
          "data": {
            "application/vnd.google.colaboratory.intrinsic+json": {
              "type": "string"
            },
            "text/plain": [
              "'!\"#$%&\\'()*+,-./:;<=>?@[\\\\]^_`{|}~'"
            ]
          },
          "metadata": {},
          "execution_count": 30
        }
      ]
    },
    {
      "cell_type": "code",
      "metadata": {
        "id": "oMljHFJJq1Gn"
      },
      "source": [
        "PUNC_TO_REMOVE=string.punctuation\n",
        "\n",
        "def remove_punctuation(text):\n",
        "  return text.translate(str.maketrans('','',PUNC_TO_REMOVE))\n",
        "\n",
        "\n"
      ],
      "execution_count": null,
      "outputs": []
    },
    {
      "cell_type": "code",
      "metadata": {
        "id": "wjPaYzC2okXc"
      },
      "source": [
        "df['reviews.numHelpful']=df['reviews.numHelpful'].fillna(0)"
      ],
      "execution_count": null,
      "outputs": []
    },
    {
      "cell_type": "code",
      "metadata": {
        "id": "ZqsErg2Dowa8"
      },
      "source": [
        "df.drop(['asins'],axis=1,inplace=True)"
      ],
      "execution_count": null,
      "outputs": []
    },
    {
      "cell_type": "code",
      "metadata": {
        "colab": {
          "base_uri": "https://localhost:8080/"
        },
        "id": "LIcEyE4SpRdG",
        "outputId": "3f4087ec-4581-49a6-b881-8616e522dc18"
      },
      "source": [
        "## stopword using nltk\n",
        "!pip3 install nltk\n",
        "nltk.download('punkt')\n",
        "from nltk.corpus import stopwords\n",
        "from nltk.tokenize import word_tokenize"
      ],
      "execution_count": null,
      "outputs": [
        {
          "output_type": "stream",
          "name": "stdout",
          "text": [
            "Requirement already satisfied: nltk in /usr/local/lib/python3.7/dist-packages (3.2.5)\n",
            "Requirement already satisfied: six in /usr/local/lib/python3.7/dist-packages (from nltk) (1.15.0)\n",
            "[nltk_data] Downloading package punkt to /root/nltk_data...\n",
            "[nltk_data]   Unzipping tokenizers/punkt.zip.\n"
          ]
        }
      ]
    },
    {
      "cell_type": "code",
      "metadata": {
        "colab": {
          "base_uri": "https://localhost:8080/"
        },
        "id": "AcAc49aYq0rf",
        "outputId": "a81c5f7b-7c2d-4f2f-e4ac-22678ff32c22"
      },
      "source": [
        "nltk.download('stopwords')"
      ],
      "execution_count": null,
      "outputs": [
        {
          "output_type": "stream",
          "name": "stdout",
          "text": [
            "[nltk_data] Downloading package stopwords to /root/nltk_data...\n",
            "[nltk_data]   Unzipping corpora/stopwords.zip.\n"
          ]
        },
        {
          "output_type": "execute_result",
          "data": {
            "text/plain": [
              "True"
            ]
          },
          "metadata": {},
          "execution_count": 35
        }
      ]
    },
    {
      "cell_type": "code",
      "metadata": {
        "id": "0V7hQCvWp5Is"
      },
      "source": [
        "STOPWORDS=set(stopwords.words('english'))"
      ],
      "execution_count": null,
      "outputs": []
    },
    {
      "cell_type": "code",
      "metadata": {
        "id": "1leIbuyqq7qX"
      },
      "source": [
        "def remove_stopword_and_punctuation(review):\n",
        "  return ' '.join([word for word in review.split() if word not in STOPWORDS and word not in string.punctuation ])"
      ],
      "execution_count": null,
      "outputs": []
    },
    {
      "cell_type": "code",
      "metadata": {
        "id": "BO_Wt4MPBxbP"
      },
      "source": [
        "df['reviews_wo_punc_and_stopwords']=df['review_lower'].apply(lambda review: remove_stopword_and_punctuation(review))"
      ],
      "execution_count": null,
      "outputs": []
    },
    {
      "cell_type": "code",
      "metadata": {
        "id": "gJhBBRFkHbJ3"
      },
      "source": [
        "df['reviews_wo_punc_and_stopwords']=df['reviews_wo_punc_and_stopwords'].apply(lambda text: remove_punctuation(text))"
      ],
      "execution_count": null,
      "outputs": []
    },
    {
      "cell_type": "code",
      "metadata": {
        "colab": {
          "base_uri": "https://localhost:8080/",
          "height": 458
        },
        "id": "Tdht6pqwDTix",
        "outputId": "1d77af09-db8f-4a14-b816-2abb80ddc59d"
      },
      "source": [
        "\n",
        "df.head()"
      ],
      "execution_count": null,
      "outputs": [
        {
          "output_type": "execute_result",
          "data": {
            "text/html": [
              "<div>\n",
              "<style scoped>\n",
              "    .dataframe tbody tr th:only-of-type {\n",
              "        vertical-align: middle;\n",
              "    }\n",
              "\n",
              "    .dataframe tbody tr th {\n",
              "        vertical-align: top;\n",
              "    }\n",
              "\n",
              "    .dataframe thead th {\n",
              "        text-align: right;\n",
              "    }\n",
              "</style>\n",
              "<table border=\"1\" class=\"dataframe\">\n",
              "  <thead>\n",
              "    <tr style=\"text-align: right;\">\n",
              "      <th></th>\n",
              "      <th>reviews.text</th>\n",
              "      <th>reviews.rating</th>\n",
              "      <th>reviews.numHelpful</th>\n",
              "      <th>review_lower</th>\n",
              "      <th>reviews_wo_punc_and_stopwords</th>\n",
              "    </tr>\n",
              "  </thead>\n",
              "  <tbody>\n",
              "    <tr>\n",
              "      <th>0</th>\n",
              "      <td>I order 3 of them and one of the item is bad q...</td>\n",
              "      <td>3</td>\n",
              "      <td>0.0</td>\n",
              "      <td>i order 3 of them and one of the item is bad q...</td>\n",
              "      <td>order 3 one item bad quality missing backup sp...</td>\n",
              "    </tr>\n",
              "    <tr>\n",
              "      <th>1</th>\n",
              "      <td>Bulk is always the less expensive way to go fo...</td>\n",
              "      <td>4</td>\n",
              "      <td>0.0</td>\n",
              "      <td>bulk is always the less expensive way to go fo...</td>\n",
              "      <td>bulk always less expensive way go products like</td>\n",
              "    </tr>\n",
              "    <tr>\n",
              "      <th>2</th>\n",
              "      <td>Well they are not Duracell but for the price i...</td>\n",
              "      <td>5</td>\n",
              "      <td>0.0</td>\n",
              "      <td>well they are not duracell but for the price i...</td>\n",
              "      <td>well duracell price happy</td>\n",
              "    </tr>\n",
              "    <tr>\n",
              "      <th>3</th>\n",
              "      <td>Seem to work as well as name brand batteries a...</td>\n",
              "      <td>5</td>\n",
              "      <td>0.0</td>\n",
              "      <td>seem to work as well as name brand batteries a...</td>\n",
              "      <td>seem work well name brand batteries much bette...</td>\n",
              "    </tr>\n",
              "    <tr>\n",
              "      <th>4</th>\n",
              "      <td>These batteries are very long lasting the pric...</td>\n",
              "      <td>5</td>\n",
              "      <td>0.0</td>\n",
              "      <td>these batteries are very long lasting the pric...</td>\n",
              "      <td>batteries long lasting price great</td>\n",
              "    </tr>\n",
              "  </tbody>\n",
              "</table>\n",
              "</div>"
            ],
            "text/plain": [
              "                                        reviews.text  ...                      reviews_wo_punc_and_stopwords\n",
              "0  I order 3 of them and one of the item is bad q...  ...  order 3 one item bad quality missing backup sp...\n",
              "1  Bulk is always the less expensive way to go fo...  ...    bulk always less expensive way go products like\n",
              "2  Well they are not Duracell but for the price i...  ...                          well duracell price happy\n",
              "3  Seem to work as well as name brand batteries a...  ...  seem work well name brand batteries much bette...\n",
              "4  These batteries are very long lasting the pric...  ...                 batteries long lasting price great\n",
              "\n",
              "[5 rows x 5 columns]"
            ]
          },
          "metadata": {},
          "execution_count": 40
        }
      ]
    },
    {
      "cell_type": "code",
      "metadata": {
        "colab": {
          "base_uri": "https://localhost:8080/"
        },
        "id": "_nx6lQoIdMm6",
        "outputId": "1a2a4ec8-6f2c-4b90-805b-5157dacf6344"
      },
      "source": [
        "nltk.download('wordnet')\n",
        "nltk.download('averaged_perceptron_tagger')"
      ],
      "execution_count": null,
      "outputs": [
        {
          "output_type": "stream",
          "name": "stdout",
          "text": [
            "[nltk_data] Downloading package wordnet to /root/nltk_data...\n",
            "[nltk_data]   Unzipping corpora/wordnet.zip.\n",
            "[nltk_data] Downloading package averaged_perceptron_tagger to\n",
            "[nltk_data]     /root/nltk_data...\n",
            "[nltk_data]   Unzipping taggers/averaged_perceptron_tagger.zip.\n"
          ]
        },
        {
          "output_type": "execute_result",
          "data": {
            "text/plain": [
              "True"
            ]
          },
          "metadata": {},
          "execution_count": 41
        }
      ]
    },
    {
      "cell_type": "code",
      "metadata": {
        "id": "TZXJQGlfKj7Z"
      },
      "source": [
        "## stemming and Lemmatization\n",
        "from nltk.stem import WordNetLemmatizer\n",
        "from nltk.corpus import wordnet\n",
        "lemmatizer=WordNetLemmatizer()"
      ],
      "execution_count": null,
      "outputs": []
    },
    {
      "cell_type": "code",
      "metadata": {
        "id": "fifluVR7DBxh"
      },
      "source": [
        "wordnet_map={\n",
        "    'N':wordnet.NOUN,\n",
        "    'V':wordnet.VERB,\n",
        "    'A':wordnet.ADJ,\n",
        "    'R':wordnet.ADV\n",
        "}\n",
        "\n",
        "def lemmatize_words(review):\n",
        "  pos_tagged_text=nltk.pos_tag(review.split())\n",
        "  return ' '.join([lemmatizer.lemmatize(word,wordnet_map.get(pos[0],wordnet.NOUN)) for word, pos in pos_tagged_text])\n"
      ],
      "execution_count": null,
      "outputs": []
    },
    {
      "cell_type": "code",
      "metadata": {
        "id": "5y7dSKvLEwG4"
      },
      "source": [
        "df['lemmatize_text']=df['reviews_wo_punc_and_stopwords'].apply(lambda review : lemmatize_words(review))"
      ],
      "execution_count": null,
      "outputs": []
    },
    {
      "cell_type": "code",
      "metadata": {
        "colab": {
          "base_uri": "https://localhost:8080/",
          "height": 458
        },
        "id": "uKbifR3nFrPE",
        "outputId": "27536fc1-852c-47d0-f119-9e596c510dd1"
      },
      "source": [
        "df.head()"
      ],
      "execution_count": null,
      "outputs": [
        {
          "output_type": "execute_result",
          "data": {
            "text/html": [
              "<div>\n",
              "<style scoped>\n",
              "    .dataframe tbody tr th:only-of-type {\n",
              "        vertical-align: middle;\n",
              "    }\n",
              "\n",
              "    .dataframe tbody tr th {\n",
              "        vertical-align: top;\n",
              "    }\n",
              "\n",
              "    .dataframe thead th {\n",
              "        text-align: right;\n",
              "    }\n",
              "</style>\n",
              "<table border=\"1\" class=\"dataframe\">\n",
              "  <thead>\n",
              "    <tr style=\"text-align: right;\">\n",
              "      <th></th>\n",
              "      <th>reviews.text</th>\n",
              "      <th>reviews.rating</th>\n",
              "      <th>reviews.numHelpful</th>\n",
              "      <th>review_lower</th>\n",
              "      <th>reviews_wo_punc_and_stopwords</th>\n",
              "      <th>lemmatize_text</th>\n",
              "    </tr>\n",
              "  </thead>\n",
              "  <tbody>\n",
              "    <tr>\n",
              "      <th>0</th>\n",
              "      <td>I order 3 of them and one of the item is bad q...</td>\n",
              "      <td>3</td>\n",
              "      <td>0.0</td>\n",
              "      <td>i order 3 of them and one of the item is bad q...</td>\n",
              "      <td>order 3 one item bad quality missing backup sp...</td>\n",
              "      <td>order 3 one item bad quality miss backup sprin...</td>\n",
              "    </tr>\n",
              "    <tr>\n",
              "      <th>1</th>\n",
              "      <td>Bulk is always the less expensive way to go fo...</td>\n",
              "      <td>4</td>\n",
              "      <td>0.0</td>\n",
              "      <td>bulk is always the less expensive way to go fo...</td>\n",
              "      <td>bulk always less expensive way go products like</td>\n",
              "      <td>bulk always less expensive way go product like</td>\n",
              "    </tr>\n",
              "    <tr>\n",
              "      <th>2</th>\n",
              "      <td>Well they are not Duracell but for the price i...</td>\n",
              "      <td>5</td>\n",
              "      <td>0.0</td>\n",
              "      <td>well they are not duracell but for the price i...</td>\n",
              "      <td>well duracell price happy</td>\n",
              "      <td>well duracell price happy</td>\n",
              "    </tr>\n",
              "    <tr>\n",
              "      <th>3</th>\n",
              "      <td>Seem to work as well as name brand batteries a...</td>\n",
              "      <td>5</td>\n",
              "      <td>0.0</td>\n",
              "      <td>seem to work as well as name brand batteries a...</td>\n",
              "      <td>seem work well name brand batteries much bette...</td>\n",
              "      <td>seem work well name brand battery much better ...</td>\n",
              "    </tr>\n",
              "    <tr>\n",
              "      <th>4</th>\n",
              "      <td>These batteries are very long lasting the pric...</td>\n",
              "      <td>5</td>\n",
              "      <td>0.0</td>\n",
              "      <td>these batteries are very long lasting the pric...</td>\n",
              "      <td>batteries long lasting price great</td>\n",
              "      <td>battery long lasting price great</td>\n",
              "    </tr>\n",
              "  </tbody>\n",
              "</table>\n",
              "</div>"
            ],
            "text/plain": [
              "                                        reviews.text  ...                                     lemmatize_text\n",
              "0  I order 3 of them and one of the item is bad q...  ...  order 3 one item bad quality miss backup sprin...\n",
              "1  Bulk is always the less expensive way to go fo...  ...     bulk always less expensive way go product like\n",
              "2  Well they are not Duracell but for the price i...  ...                          well duracell price happy\n",
              "3  Seem to work as well as name brand batteries a...  ...  seem work well name brand battery much better ...\n",
              "4  These batteries are very long lasting the pric...  ...                   battery long lasting price great\n",
              "\n",
              "[5 rows x 6 columns]"
            ]
          },
          "metadata": {},
          "execution_count": 45
        }
      ]
    },
    {
      "cell_type": "code",
      "metadata": {
        "id": "mipJR7dhF2v-"
      },
      "source": [
        "## model defination\n",
        "import tensorflow as tf\n",
        "from tensorflow.keras.models import Sequential\n",
        "from tensorflow.keras.preprocessing.text import Tokenizer,one_hot\n",
        "from tensorflow.keras.preprocessing.sequence import pad_sequences\n",
        "from tensorflow.keras.layers import Dense, LSTM, Embedding, SpatialDropout1D,Flatten\n",
        "from sklearn.model_selection import  train_test_split\n",
        "from keras.utils.np_utils import to_categorical "
      ],
      "execution_count": null,
      "outputs": []
    },
    {
      "cell_type": "code",
      "metadata": {
        "id": "XaMaypjTNJVs"
      },
      "source": [
        "## tokenization\n",
        "def review_tokenization(review):\n",
        "  return word_tokenize(review)\n",
        "\n",
        "df['word_review_token']=df['lemmatize_text'].apply(lambda review: review_tokenization(review) )"
      ],
      "execution_count": null,
      "outputs": []
    },
    {
      "cell_type": "code",
      "metadata": {
        "id": "3SWHVcnVmJjB"
      },
      "source": [
        "## lets remove number from reviews\n",
        "\n",
        "import re\n",
        "def remove_number(review):\n",
        "  return ' '.join([ s for s in review.split() if not s.isdigit()])\n"
      ],
      "execution_count": null,
      "outputs": []
    },
    {
      "cell_type": "code",
      "metadata": {
        "id": "zOxsLViapxwn"
      },
      "source": [
        "df['processed_review']=df['lemmatize_text'].apply(lambda review: remove_number(review))"
      ],
      "execution_count": null,
      "outputs": []
    },
    {
      "cell_type": "code",
      "metadata": {
        "colab": {
          "base_uri": "https://localhost:8080/",
          "height": 458
        },
        "id": "O3elBmlh2LU3",
        "outputId": "4aa2ab77-ec8f-400f-99ca-354929d7a3f8"
      },
      "source": [
        "df.head()"
      ],
      "execution_count": null,
      "outputs": [
        {
          "output_type": "execute_result",
          "data": {
            "text/html": [
              "<div>\n",
              "<style scoped>\n",
              "    .dataframe tbody tr th:only-of-type {\n",
              "        vertical-align: middle;\n",
              "    }\n",
              "\n",
              "    .dataframe tbody tr th {\n",
              "        vertical-align: top;\n",
              "    }\n",
              "\n",
              "    .dataframe thead th {\n",
              "        text-align: right;\n",
              "    }\n",
              "</style>\n",
              "<table border=\"1\" class=\"dataframe\">\n",
              "  <thead>\n",
              "    <tr style=\"text-align: right;\">\n",
              "      <th></th>\n",
              "      <th>reviews.text</th>\n",
              "      <th>reviews.rating</th>\n",
              "      <th>reviews.numHelpful</th>\n",
              "      <th>review_lower</th>\n",
              "      <th>reviews_wo_punc_and_stopwords</th>\n",
              "      <th>lemmatize_text</th>\n",
              "      <th>word_review_token</th>\n",
              "      <th>processed_review</th>\n",
              "    </tr>\n",
              "  </thead>\n",
              "  <tbody>\n",
              "    <tr>\n",
              "      <th>0</th>\n",
              "      <td>I order 3 of them and one of the item is bad q...</td>\n",
              "      <td>3</td>\n",
              "      <td>0.0</td>\n",
              "      <td>i order 3 of them and one of the item is bad q...</td>\n",
              "      <td>order 3 one item bad quality missing backup sp...</td>\n",
              "      <td>order 3 one item bad quality miss backup sprin...</td>\n",
              "      <td>[order, 3, one, item, bad, quality, miss, back...</td>\n",
              "      <td>order one item bad quality miss backup spring ...</td>\n",
              "    </tr>\n",
              "    <tr>\n",
              "      <th>1</th>\n",
              "      <td>Bulk is always the less expensive way to go fo...</td>\n",
              "      <td>4</td>\n",
              "      <td>0.0</td>\n",
              "      <td>bulk is always the less expensive way to go fo...</td>\n",
              "      <td>bulk always less expensive way go products like</td>\n",
              "      <td>bulk always less expensive way go product like</td>\n",
              "      <td>[bulk, always, less, expensive, way, go, produ...</td>\n",
              "      <td>bulk always less expensive way go product like</td>\n",
              "    </tr>\n",
              "    <tr>\n",
              "      <th>2</th>\n",
              "      <td>Well they are not Duracell but for the price i...</td>\n",
              "      <td>5</td>\n",
              "      <td>0.0</td>\n",
              "      <td>well they are not duracell but for the price i...</td>\n",
              "      <td>well duracell price happy</td>\n",
              "      <td>well duracell price happy</td>\n",
              "      <td>[well, duracell, price, happy]</td>\n",
              "      <td>well duracell price happy</td>\n",
              "    </tr>\n",
              "    <tr>\n",
              "      <th>3</th>\n",
              "      <td>Seem to work as well as name brand batteries a...</td>\n",
              "      <td>5</td>\n",
              "      <td>0.0</td>\n",
              "      <td>seem to work as well as name brand batteries a...</td>\n",
              "      <td>seem work well name brand batteries much bette...</td>\n",
              "      <td>seem work well name brand battery much better ...</td>\n",
              "      <td>[seem, work, well, name, brand, battery, much,...</td>\n",
              "      <td>seem work well name brand battery much better ...</td>\n",
              "    </tr>\n",
              "    <tr>\n",
              "      <th>4</th>\n",
              "      <td>These batteries are very long lasting the pric...</td>\n",
              "      <td>5</td>\n",
              "      <td>0.0</td>\n",
              "      <td>these batteries are very long lasting the pric...</td>\n",
              "      <td>batteries long lasting price great</td>\n",
              "      <td>battery long lasting price great</td>\n",
              "      <td>[battery, long, lasting, price, great]</td>\n",
              "      <td>battery long lasting price great</td>\n",
              "    </tr>\n",
              "  </tbody>\n",
              "</table>\n",
              "</div>"
            ],
            "text/plain": [
              "                                        reviews.text  ...                                   processed_review\n",
              "0  I order 3 of them and one of the item is bad q...  ...  order one item bad quality miss backup spring ...\n",
              "1  Bulk is always the less expensive way to go fo...  ...     bulk always less expensive way go product like\n",
              "2  Well they are not Duracell but for the price i...  ...                          well duracell price happy\n",
              "3  Seem to work as well as name brand batteries a...  ...  seem work well name brand battery much better ...\n",
              "4  These batteries are very long lasting the pric...  ...                   battery long lasting price great\n",
              "\n",
              "[5 rows x 8 columns]"
            ]
          },
          "metadata": {},
          "execution_count": 76
        }
      ]
    },
    {
      "cell_type": "code",
      "metadata": {
        "id": "29Pg4mmWl0RI"
      },
      "source": [
        "voc_size=20000\n",
        "encoded_docs=[one_hot(d,voc_size) for d in df['processed_review']]"
      ],
      "execution_count": null,
      "outputs": []
    },
    {
      "cell_type": "code",
      "metadata": {
        "colab": {
          "base_uri": "https://localhost:8080/"
        },
        "id": "wzV0_KP4jgO7",
        "outputId": "5151f15c-5aba-4abb-c28b-a1b0807c6d52"
      },
      "source": [
        "encoded_docs[1]"
      ],
      "execution_count": null,
      "outputs": [
        {
          "output_type": "execute_result",
          "data": {
            "text/plain": [
              "[10863, 18445, 1959, 900, 3759, 2477, 6905, 2427]"
            ]
          },
          "metadata": {},
          "execution_count": 51
        }
      ]
    },
    {
      "cell_type": "code",
      "metadata": {
        "id": "UvzJ2id_p3HB"
      },
      "source": [
        "max_length=30\n",
        "padded_reviews=pad_sequences(encoded_docs,maxlen=max_length,padding='pre')"
      ],
      "execution_count": null,
      "outputs": []
    },
    {
      "cell_type": "code",
      "metadata": {
        "colab": {
          "base_uri": "https://localhost:8080/"
        },
        "id": "lcA3u-f7jeTc",
        "outputId": "8bf88dfb-bc6e-4868-bc7f-e5e7abfc5d0c"
      },
      "source": [
        "padded_reviews[1]"
      ],
      "execution_count": null,
      "outputs": [
        {
          "output_type": "execute_result",
          "data": {
            "text/plain": [
              "array([    0,     0,     0,     0,     0,     0,     0,     0,     0,\n",
              "           0,     0,     0,     0,     0,     0,     0,     0,     0,\n",
              "           0,     0,     0,     0, 10863, 18445,  1959,   900,  3759,\n",
              "        2477,  6905,  2427], dtype=int32)"
            ]
          },
          "metadata": {},
          "execution_count": 53
        }
      ]
    },
    {
      "cell_type": "code",
      "metadata": {
        "colab": {
          "base_uri": "https://localhost:8080/"
        },
        "id": "N49wPJk-qm60",
        "outputId": "98c3329a-2cdc-4e08-89a4-b102230cae87"
      },
      "source": [
        "lstm_units=500\n",
        "model=Sequential()\n",
        "model.add(Embedding(voc_size,30,input_length=max_length))\n",
        "model.add(LSTM(lstm_units,dropout=0.2 ,recurrent_dropout=0.2))\n",
        "model.add(Dense(6,activation='softmax'))\n",
        "model.compile(tf.keras.optimizers.Adam(learning_rate=0.001),loss='categorical_crossentropy',metrics=['accuracy'])\n",
        "model.summary()"
      ],
      "execution_count": null,
      "outputs": [
        {
          "output_type": "stream",
          "name": "stdout",
          "text": [
            "WARNING:tensorflow:Layer lstm_1 will not use cuDNN kernels since it doesn't meet the criteria. It will use a generic GPU kernel as fallback when running on GPU.\n",
            "Model: \"sequential_1\"\n",
            "_________________________________________________________________\n",
            "Layer (type)                 Output Shape              Param #   \n",
            "=================================================================\n",
            "embedding_1 (Embedding)      (None, 30, 30)            600000    \n",
            "_________________________________________________________________\n",
            "lstm_1 (LSTM)                (None, 500)               1062000   \n",
            "_________________________________________________________________\n",
            "dense_1 (Dense)              (None, 6)                 3006      \n",
            "=================================================================\n",
            "Total params: 1,665,006\n",
            "Trainable params: 1,665,006\n",
            "Non-trainable params: 0\n",
            "_________________________________________________________________\n"
          ]
        }
      ]
    },
    {
      "cell_type": "code",
      "metadata": {
        "id": "2UA3FXX8ytcJ"
      },
      "source": [
        "Y_train=df['reviews.rating']\n",
        "encoded_data=to_categorical(Y_train)\n"
      ],
      "execution_count": null,
      "outputs": []
    },
    {
      "cell_type": "code",
      "metadata": {
        "colab": {
          "base_uri": "https://localhost:8080/"
        },
        "id": "ULk-S42G290_",
        "outputId": "11adae9f-59b6-4ce1-ff00-c850b4a87536"
      },
      "source": [
        "model.fit(padded_reviews, encoded_data, batch_size=34, epochs=50, verbose=1, validation_split=0.1)"
      ],
      "execution_count": null,
      "outputs": [
        {
          "output_type": "stream",
          "name": "stdout",
          "text": [
            "Epoch 1/50\n",
            "883/883 [==============================] - 198s 219ms/step - loss: 0.8055 - accuracy: 0.7113 - val_loss: 0.7102 - val_accuracy: 0.6911\n",
            "Epoch 2/50\n",
            "883/883 [==============================] - 194s 220ms/step - loss: 0.6692 - accuracy: 0.7413 - val_loss: 0.5887 - val_accuracy: 0.7597\n",
            "Epoch 3/50\n",
            "883/883 [==============================] - 193s 218ms/step - loss: 0.5788 - accuracy: 0.7790 - val_loss: 0.5112 - val_accuracy: 0.7900\n",
            "Epoch 4/50\n",
            "883/883 [==============================] - 194s 220ms/step - loss: 0.5206 - accuracy: 0.8062 - val_loss: 0.4204 - val_accuracy: 0.8419\n",
            "Epoch 5/50\n",
            "883/883 [==============================] - 192s 218ms/step - loss: 0.4711 - accuracy: 0.8286 - val_loss: 0.3794 - val_accuracy: 0.8653\n",
            "Epoch 6/50\n",
            "883/883 [==============================] - 193s 218ms/step - loss: 0.4294 - accuracy: 0.8452 - val_loss: 0.3314 - val_accuracy: 0.8875\n",
            "Epoch 7/50\n",
            "883/883 [==============================] - 194s 220ms/step - loss: 0.3945 - accuracy: 0.8588 - val_loss: 0.3045 - val_accuracy: 0.8944\n",
            "Epoch 8/50\n",
            "883/883 [==============================] - 194s 220ms/step - loss: 0.3639 - accuracy: 0.8683 - val_loss: 0.2947 - val_accuracy: 0.8956\n",
            "Epoch 9/50\n",
            "883/883 [==============================] - 193s 218ms/step - loss: 0.3373 - accuracy: 0.8794 - val_loss: 0.2658 - val_accuracy: 0.9064\n",
            "Epoch 10/50\n",
            "883/883 [==============================] - 194s 220ms/step - loss: 0.3143 - accuracy: 0.8872 - val_loss: 0.2559 - val_accuracy: 0.9118\n",
            "Epoch 11/50\n",
            "883/883 [==============================] - 192s 217ms/step - loss: 0.2947 - accuracy: 0.8951 - val_loss: 0.2236 - val_accuracy: 0.9283\n",
            "Epoch 12/50\n",
            "883/883 [==============================] - 190s 215ms/step - loss: 0.2760 - accuracy: 0.9006 - val_loss: 0.2123 - val_accuracy: 0.9316\n",
            "Epoch 13/50\n",
            "883/883 [==============================] - 191s 216ms/step - loss: 0.2590 - accuracy: 0.9069 - val_loss: 0.2101 - val_accuracy: 0.9334\n",
            "Epoch 14/50\n",
            "883/883 [==============================] - 190s 215ms/step - loss: 0.2442 - accuracy: 0.9122 - val_loss: 0.2002 - val_accuracy: 0.9382\n",
            "Epoch 15/50\n",
            "883/883 [==============================] - 192s 218ms/step - loss: 0.2284 - accuracy: 0.9183 - val_loss: 0.1878 - val_accuracy: 0.9496\n",
            "Epoch 16/50\n",
            "883/883 [==============================] - 192s 217ms/step - loss: 0.2161 - accuracy: 0.9231 - val_loss: 0.1762 - val_accuracy: 0.9508\n",
            "Epoch 17/50\n",
            "883/883 [==============================] - 192s 218ms/step - loss: 0.2001 - accuracy: 0.9280 - val_loss: 0.1786 - val_accuracy: 0.9550\n",
            "Epoch 18/50\n",
            "883/883 [==============================] - 192s 218ms/step - loss: 0.1882 - accuracy: 0.9325 - val_loss: 0.1689 - val_accuracy: 0.9592\n",
            "Epoch 19/50\n",
            "883/883 [==============================] - 194s 219ms/step - loss: 0.1833 - accuracy: 0.9336 - val_loss: 0.1728 - val_accuracy: 0.9616\n",
            "Epoch 20/50\n",
            "883/883 [==============================] - 192s 217ms/step - loss: 0.1680 - accuracy: 0.9399 - val_loss: 0.1730 - val_accuracy: 0.9616\n",
            "Epoch 21/50\n",
            "883/883 [==============================] - 193s 219ms/step - loss: 0.1569 - accuracy: 0.9453 - val_loss: 0.1587 - val_accuracy: 0.9664\n",
            "Epoch 22/50\n",
            "883/883 [==============================] - 190s 216ms/step - loss: 0.1494 - accuracy: 0.9478 - val_loss: 0.1614 - val_accuracy: 0.9706\n",
            "Epoch 23/50\n",
            "883/883 [==============================] - 192s 217ms/step - loss: 0.1409 - accuracy: 0.9505 - val_loss: 0.1592 - val_accuracy: 0.9691\n",
            "Epoch 24/50\n",
            "883/883 [==============================] - 193s 218ms/step - loss: 0.1311 - accuracy: 0.9529 - val_loss: 0.1584 - val_accuracy: 0.9730\n",
            "Epoch 25/50\n",
            "883/883 [==============================] - 190s 216ms/step - loss: 0.1274 - accuracy: 0.9536 - val_loss: 0.1581 - val_accuracy: 0.9727\n",
            "Epoch 26/50\n",
            "883/883 [==============================] - 191s 216ms/step - loss: 0.1212 - accuracy: 0.9571 - val_loss: 0.1505 - val_accuracy: 0.9775\n",
            "Epoch 27/50\n",
            "883/883 [==============================] - 191s 216ms/step - loss: 0.1123 - accuracy: 0.9611 - val_loss: 0.1499 - val_accuracy: 0.9775\n",
            "Epoch 28/50\n",
            "883/883 [==============================] - 191s 216ms/step - loss: 0.1077 - accuracy: 0.9626 - val_loss: 0.1518 - val_accuracy: 0.9787\n",
            "Epoch 29/50\n",
            "883/883 [==============================] - 189s 214ms/step - loss: 0.1048 - accuracy: 0.9623 - val_loss: 0.1498 - val_accuracy: 0.9778\n",
            "Epoch 30/50\n",
            "883/883 [==============================] - 188s 213ms/step - loss: 0.0990 - accuracy: 0.9647 - val_loss: 0.1694 - val_accuracy: 0.9748\n",
            "Epoch 31/50\n",
            "883/883 [==============================] - 188s 213ms/step - loss: 0.0965 - accuracy: 0.9655 - val_loss: 0.1514 - val_accuracy: 0.9808\n",
            "Epoch 32/50\n",
            "883/883 [==============================] - 190s 215ms/step - loss: 0.0909 - accuracy: 0.9683 - val_loss: 0.1544 - val_accuracy: 0.9790\n",
            "Epoch 33/50\n",
            "883/883 [==============================] - 189s 214ms/step - loss: 0.0918 - accuracy: 0.9680 - val_loss: 0.1522 - val_accuracy: 0.9814\n",
            "Epoch 34/50\n",
            "883/883 [==============================] - 189s 214ms/step - loss: 0.0886 - accuracy: 0.9686 - val_loss: 0.1547 - val_accuracy: 0.9790\n",
            "Epoch 35/50\n",
            "883/883 [==============================] - 189s 214ms/step - loss: 0.0836 - accuracy: 0.9710 - val_loss: 0.1547 - val_accuracy: 0.9817\n",
            "Epoch 36/50\n",
            "883/883 [==============================] - 189s 214ms/step - loss: 0.0823 - accuracy: 0.9708 - val_loss: 0.1488 - val_accuracy: 0.9808\n",
            "Epoch 37/50\n",
            "883/883 [==============================] - 191s 216ms/step - loss: 0.0775 - accuracy: 0.9727 - val_loss: 0.1614 - val_accuracy: 0.9808\n",
            "Epoch 38/50\n",
            "883/883 [==============================] - 190s 215ms/step - loss: 0.0742 - accuracy: 0.9735 - val_loss: 0.1676 - val_accuracy: 0.9808\n",
            "Epoch 39/50\n",
            "883/883 [==============================] - 189s 214ms/step - loss: 0.0723 - accuracy: 0.9746 - val_loss: 0.1619 - val_accuracy: 0.9823\n",
            "Epoch 40/50\n",
            "883/883 [==============================] - 188s 212ms/step - loss: 0.0745 - accuracy: 0.9738 - val_loss: 0.1606 - val_accuracy: 0.9808\n",
            "Epoch 41/50\n",
            "883/883 [==============================] - 188s 212ms/step - loss: 0.0748 - accuracy: 0.9738 - val_loss: 0.1661 - val_accuracy: 0.9793\n",
            "Epoch 42/50\n",
            "883/883 [==============================] - 189s 214ms/step - loss: 0.0721 - accuracy: 0.9749 - val_loss: 0.1568 - val_accuracy: 0.9799\n",
            "Epoch 43/50\n",
            "883/883 [==============================] - 189s 214ms/step - loss: 0.0692 - accuracy: 0.9755 - val_loss: 0.1707 - val_accuracy: 0.9784\n",
            "Epoch 44/50\n",
            "883/883 [==============================] - 191s 217ms/step - loss: 0.0679 - accuracy: 0.9760 - val_loss: 0.1639 - val_accuracy: 0.9811\n",
            "Epoch 45/50\n",
            "883/883 [==============================] - 190s 215ms/step - loss: 0.0646 - accuracy: 0.9775 - val_loss: 0.1671 - val_accuracy: 0.9826\n",
            "Epoch 46/50\n",
            "883/883 [==============================] - 190s 215ms/step - loss: 0.0692 - accuracy: 0.9756 - val_loss: 0.1566 - val_accuracy: 0.9817\n",
            "Epoch 47/50\n",
            "883/883 [==============================] - 190s 215ms/step - loss: 0.0635 - accuracy: 0.9771 - val_loss: 0.1722 - val_accuracy: 0.9814\n",
            "Epoch 48/50\n",
            "883/883 [==============================] - 191s 217ms/step - loss: 0.0634 - accuracy: 0.9780 - val_loss: 0.1627 - val_accuracy: 0.9820\n",
            "Epoch 49/50\n",
            "883/883 [==============================] - 190s 216ms/step - loss: 0.0618 - accuracy: 0.9778 - val_loss: 0.1685 - val_accuracy: 0.9814\n",
            "Epoch 50/50\n",
            "883/883 [==============================] - 192s 217ms/step - loss: 0.0646 - accuracy: 0.9771 - val_loss: 0.1658 - val_accuracy: 0.9799\n"
          ]
        },
        {
          "output_type": "execute_result",
          "data": {
            "text/plain": [
              "<keras.callbacks.History at 0x7f7240e75fd0>"
            ]
          },
          "metadata": {},
          "execution_count": 58
        }
      ]
    },
    {
      "cell_type": "code",
      "metadata": {
        "colab": {
          "base_uri": "https://localhost:8080/"
        },
        "id": "1HAYRSIsysR8",
        "outputId": "f147c7e3-0111-4a95-9382-743b0442bec0"
      },
      "source": [
        "model.history.history.keys()"
      ],
      "execution_count": null,
      "outputs": [
        {
          "output_type": "execute_result",
          "data": {
            "text/plain": [
              "dict_keys(['loss', 'accuracy', 'val_loss', 'val_accuracy'])"
            ]
          },
          "metadata": {},
          "execution_count": 67
        }
      ]
    },
    {
      "cell_type": "code",
      "metadata": {
        "colab": {
          "base_uri": "https://localhost:8080/",
          "height": 295
        },
        "id": "ilA8zoqhSXZz",
        "outputId": "17b63234-f9a2-49c3-ae52-cbc75d817110"
      },
      "source": [
        "import matplotlib.pyplot as plt\n",
        "plt.plot(model.history.history['accuracy'])\n",
        "plt.plot(model.history.history['val_accuracy'])\n",
        "plt.title('Model accuracy')\n",
        "plt.ylabel('accuracy')\n",
        "plt.xlabel('epoch')\n",
        "plt.legend(['train','val'],loc='upper left')\n",
        "plt.show()"
      ],
      "execution_count": null,
      "outputs": [
        {
          "output_type": "display_data",
          "data": {
            "image/png": "[encoded data removed]",
            "text/plain": [
              "<Figure size 432x288 with 1 Axes>"
            ]
          },
          "metadata": {
            "needs_background": "light"
          }
        }
      ]
    },
    {
      "cell_type": "code",
      "metadata": {
        "colab": {
          "base_uri": "https://localhost:8080/",
          "height": 295
        },
        "id": "tpzEp9tny1PI",
        "outputId": "528762a2-2dc6-49fb-c463-b7f5d6ca42f8"
      },
      "source": [
        "import matplotlib.pyplot as plt\n",
        "plt.plot(model.history.history['loss'])\n",
        "plt.plot(model.history.history['val_loss'])\n",
        "plt.title('Model loss')\n",
        "plt.ylabel('Loss')\n",
        "plt.xlabel('epoch')\n",
        "plt.legend(['train','val'],loc='upper left')\n",
        "plt.show()"
      ],
      "execution_count": null,
      "outputs": [
        {
          "output_type": "display_data",
          "data": {
            "image/png": "[encoded data removed]",
            "text/plain": [
              "<Figure size 432x288 with 1 Axes>"
            ]
          },
          "metadata": {
            "needs_background": "light"
          }
        }
      ]
    },
    {
      "cell_type": "code",
      "metadata": {
        "id": "gkYwsVZ3CE5u"
      },
      "source": [
        "model.save('LSTM_Model_Sentiment_Analysis.h5')"
      ],
      "execution_count": null,
      "outputs": []
    },
    {
      "cell_type": "code",
      "metadata": {
        "colab": {
          "base_uri": "https://localhost:8080/"
        },
        "id": "9CBd-b1HCNpx",
        "outputId": "e6265133-5994-45a6-982e-23a1726fcbec"
      },
      "source": [
        "encoded_docs[0]"
      ],
      "execution_count": null,
      "outputs": [
        {
          "output_type": "execute_result",
          "data": {
            "text/plain": [
              "[9797,\n",
              " 11866,\n",
              " 7961,\n",
              " 10973,\n",
              " 2128,\n",
              " 16196,\n",
              " 11323,\n",
              " 8365,\n",
              " 3454,\n",
              " 13726,\n",
              " 6690,\n",
              " 2249,\n",
              " 16755,\n",
              " 17097]"
            ]
          },
          "metadata": {},
          "execution_count": 73
        }
      ]
    },
    {
      "cell_type": "code",
      "metadata": {
        "id": "-ycYVyRE31WH"
      },
      "source": [
        "p1=model.predict(encoded_docs[0])"
      ],
      "execution_count": null,
      "outputs": []
    },
    {
      "cell_type": "code",
      "metadata": {
        "colab": {
          "base_uri": "https://localhost:8080/"
        },
        "id": "BJi1oP5QKdOX",
        "outputId": "74f52714-a406-4b0b-a593-b2f4270ff043"
      },
      "source": [
        "p1"
      ],
      "execution_count": null,
      "outputs": [
        {
          "output_type": "execute_result",
          "data": {
            "text/plain": [
              "array([[3.3138448e-04, 5.5655128e-01, 1.4504135e-03, 7.7505433e-04,\n",
              "        2.7080676e-02, 4.1381121e-01],\n",
              "       [3.8547223e-05, 4.3338817e-03, 5.0842582e-04, 3.0633169e-03,\n",
              "        1.2841122e-01, 8.6364466e-01],\n",
              "       [5.4535636e-08, 9.8102069e-01, 1.6507971e-04, 5.7240413e-03,\n",
              "        6.6643455e-03, 6.4258543e-03],\n",
              "       [1.9052071e-09, 1.1642287e-01, 1.4544462e-04, 8.1831021e-03,\n",
              "        8.7507087e-01, 1.7763540e-04],\n",
              "       [1.5393439e-09, 3.9444286e-01, 2.9249486e-06, 6.7641325e-02,\n",
              "        2.6936512e-02, 5.1097637e-01],\n",
              "       [3.5401786e-07, 5.3665864e-01, 1.4765580e-03, 1.1953892e-02,\n",
              "        4.4964826e-01, 2.6225735e-04],\n",
              "       [9.0293995e-10, 1.7104090e-04, 1.9438691e-04, 1.3283815e-04,\n",
              "        9.9945658e-01, 4.5121782e-05],\n",
              "       [5.8666613e-11, 2.0182351e-07, 7.6358534e-05, 6.2911123e-01,\n",
              "        4.0691555e-03, 3.6674300e-01],\n",
              "       [5.0584856e-09, 8.1478857e-02, 1.2349563e-04, 2.3638414e-02,\n",
              "        6.5317973e-03, 8.8822740e-01],\n",
              "       [1.3792227e-10, 2.8838076e-07, 1.4326223e-05, 9.9203593e-01,\n",
              "        2.1367458e-05, 7.9282075e-03],\n",
              "       [1.1581611e-16, 5.2936155e-10, 3.2178780e-09, 9.9993777e-01,\n",
              "        5.3780223e-05, 8.4019539e-06],\n",
              "       [1.0067794e-14, 1.0473520e-07, 7.8434921e-09, 2.8335803e-06,\n",
              "        2.2577876e-04, 9.9977130e-01],\n",
              "       [2.3034237e-09, 5.1636887e-03, 3.2207558e-05, 6.3498248e-03,\n",
              "        3.5072610e-02, 9.5338166e-01],\n",
              "       [6.3147802e-08, 8.6611276e-03, 1.8005021e-03, 7.4917362e-03,\n",
              "        6.1083145e-02, 9.2096341e-01]], dtype=float32)"
            ]
          },
          "metadata": {},
          "execution_count": 75
        }
      ]
    },
    {
      "cell_type": "code",
      "metadata": {
        "id": "9vdGMr_X0nUZ"
      },
      "source": [
        "## The output p1 is of two dimension array\n",
        "## It represents the vector of each word  with respect to the class. For eg: [0,1,2,3,4,5] \n",
        "## we can find the  class of review by choosing the max out of the individual word vector and averaging the final 1D array "
      ],
      "execution_count": null,
      "outputs": []
    }
  ]
}